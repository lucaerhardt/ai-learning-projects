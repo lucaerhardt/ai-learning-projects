import pandas as pd

# Simulate loading a CSV

data = {
    "Name": ["Gerd", "Anna", "John", "Lara", "Mike"],
    "Hours_Studied": [5, 3, 6, None, 2],
    "Attendance (%)": [90, 80, 95, 85, None],
    "Score": [88, None, 91, 76, 65]
}

df = pd.DataFrame(data)

print(df.head())
print(df.info())
print(df.isnull().sum())

df["Hours_Studied"] = df["Hours_Studied"].fillna(df["Hours_Studied"].mean())
df["Attendance (%)"] = df["Attendance (%)"].fillna(df["Attendance (%)"].mean())
df["Score"] = df["Score"].fillna(df["Score"].mean())

high_study = df[df["Hours_Studied"] > 4]
print(high_study)

sorted_scores = df.sort_values(by="Score", ascending=False)
print(sorted_scores)

df.to_csv("cleaned_students.csv", index=False)

df.columns = df.columns.str.replace(" ", "_").str.replace("(", "").str.replace(")", "")
df = df.round(1)
df.to_csv("cleaned_students.csv", index=False)
