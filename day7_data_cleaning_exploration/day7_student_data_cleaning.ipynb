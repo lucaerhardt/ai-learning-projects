{
  "nbformat": 4,
  "nbformat_minor": 0,
  "metadata": {
    "colab": {
      "provenance": [],
      "toc_visible": true
    },
    "kernelspec": {
      "name": "python3",
      "display_name": "Python 3"
    },
    "language_info": {
      "name": "python"
    }
  },
  "cells": [
    {
      "cell_type": "markdown",
      "source": [
        "Hello World + Motivation Tracker"
      ],
      "metadata": {
        "id": "lT46Uo5sNtO8"
      }
    },
    {
      "cell_type": "code",
      "source": [
        "print(\"Hello, AI world!\")\n",
        "\n",
        "name = \"Gerd\"\n",
        "hours_studied = 1\n",
        "goal = \"Master AI in 5 months\"\n",
        "\n",
        "print(f\"Hi {name}, you studied {hours_studied} hour today. Let's crush your goal: {goal}!\")"
      ],
      "metadata": {
        "colab": {
          "base_uri": "https://localhost:8080/"
        },
        "id": "9f_3_hHYNzG8",
        "outputId": "6693f374-898f-49c6-87c0-98efd95cacfa"
      },
      "execution_count": 5,
      "outputs": [
        {
          "output_type": "stream",
          "name": "stdout",
          "text": [
            "Hello, AI world!\n",
            "Hi Gerd, you studied 1 hour today. Let's crush your goal: Master AI in 5 months!\n"
          ]
        }
      ]
    },
    {
      "cell_type": "markdown",
      "source": [
        "Calculator Function"
      ],
      "metadata": {
        "id": "ZFOKwV0QN2Tn"
      }
    },
    {
      "cell_type": "code",
      "source": [
        "# Ask the user for input\n",
        "\n",
        "a = float(input(\"Enter the first number: \"))\n",
        "b = float(input(\"Enter the second number: \"))\n",
        "op = input(\"Enter the operation (+, -, *, /): \")\n",
        "\n",
        "# Define a calculator function\n",
        "\n",
        "def calculate(num1, num2, operation):\n",
        "    if operation == \"+\":\n",
        "        return num1 + num2\n",
        "    elif operation == \"-\":\n",
        "        return num1 - num2\n",
        "    elif operation == \"*\":\n",
        "        return num1 * num2\n",
        "    elif operation == \"/\":\n",
        "        if num2 != 0:\n",
        "            return num1 / num2\n",
        "        else:\n",
        "            return \"Error: Division by zero!\"\n",
        "    else:\n",
        "        return \"Invalid operation!\"\n",
        "\n",
        "# Call the function and print the result\n",
        "\n",
        "result = calculate(a, b, op)\n",
        "print(f\"Result: {result}\")"
      ],
      "metadata": {
        "colab": {
          "base_uri": "https://localhost:8080/"
        },
        "id": "VOwigRy1N9ll",
        "outputId": "408c017c-7d81-41d9-e2fb-d327a387cc90"
      },
      "execution_count": 4,
      "outputs": [
        {
          "output_type": "stream",
          "name": "stdout",
          "text": [
            "Enter the first number: 6\n",
            "Enter the second number: 7\n",
            "Enter the operation (+, -, *, /): +\n",
            "Result: 13.0\n"
          ]
        }
      ]
    },
    {
      "cell_type": "markdown",
      "source": [
        "Student Score Reporter"
      ],
      "metadata": {
        "id": "Pmk-GND1ONGN"
      }
    },
    {
      "cell_type": "code",
      "source": [
        "students = [\n",
        "    {\"name\": \"Gerd\", \"hours_studied\": 5, \"score\": 88},\n",
        "    {\"name\": \"Anna\", \"hours_studied\": 3, \"score\": 75},\n",
        "    {\"name\": \"John\", \"hours_studied\": 8, \"score\": 92}\n",
        "]\n",
        "\n",
        "for student in students:\n",
        "    print(f\"{student['name']} studied {student['hours_studied']} hours and scored {student['score']}\")\n",
        "\n",
        "def average_score(student_list):\n",
        "    total = 0\n",
        "    for s in student_list:\n",
        "        total += s[\"score\"]\n",
        "    return total / len(student_list)\n",
        "\n",
        "print(\"Average score:\", average_score(students))\n"
      ],
      "metadata": {
        "colab": {
          "base_uri": "https://localhost:8080/"
        },
        "id": "r69gMucDO0uv",
        "outputId": "f0de45a7-9a82-4b9c-e054-85f37e294ebc"
      },
      "execution_count": 6,
      "outputs": [
        {
          "output_type": "stream",
          "name": "stdout",
          "text": [
            "Gerd studied 5 hours and scored 88\n",
            "Anna studied 3 hours and scored 75\n",
            "John studied 8 hours and scored 92\n",
            "Average score: 85.0\n"
          ]
        }
      ]
    },
    {
      "cell_type": "markdown",
      "source": [
        "AI Learner Resume Card"
      ],
      "metadata": {
        "id": "3wOwxRZpQ7Dy"
      }
    },
    {
      "cell_type": "code",
      "source": [
        "name = \"Gerd\"\n",
        "current_skill_level = \"Beginner\"\n",
        "goal = \"Master AI in 5 months\"\n",
        "favorite_AI_topic = \"ChatGPT and neural networks\"\n",
        "\n",
        "print(f\"Name: {name}\")\n",
        "print(f\"Current Skill Level: {current_skill_level}\")\n",
        "print(f\"Learning Goal: {goal}\")\n",
        "print(f\"Excited About: {favorite_AI_topic}\")\n"
      ],
      "metadata": {
        "colab": {
          "base_uri": "https://localhost:8080/"
        },
        "id": "qUDLZaPGRBA7",
        "outputId": "1044732c-4d06-4ec0-95c6-72a56fab1f8d"
      },
      "execution_count": 7,
      "outputs": [
        {
          "output_type": "stream",
          "name": "stdout",
          "text": [
            "Name: Gerd\n",
            "Current Skill Level: Beginner\n",
            "Learning Goal: Master AI in 5 months\n",
            "Excited About: ChatGPT and neural networks\n"
          ]
        }
      ]
    },
    {
      "cell_type": "markdown",
      "source": [
        "Score Categorizer"
      ],
      "metadata": {
        "id": "czkUhw0oR9ZA"
      }
    },
    {
      "cell_type": "code",
      "source": [
        "score = int(input(\"Enter your score: \"))\n",
        "\n",
        "if score >= 90:\n",
        "    print(\"Grade: A – Excellent\")\n",
        "elif score >= 80:\n",
        "    print(\"Grade: B – Good job\")\n",
        "elif score >= 70:\n",
        "    print(\"Grade: C – Keep working\")\n",
        "else:\n",
        "    print(\"Grade: D – Needs improvement\")"
      ],
      "metadata": {
        "colab": {
          "base_uri": "https://localhost:8080/"
        },
        "id": "FmDYi55USBPr",
        "outputId": "d3f1e758-3577-4f4e-fbcf-4f7d7573a319"
      },
      "execution_count": 8,
      "outputs": [
        {
          "output_type": "stream",
          "name": "stdout",
          "text": [
            "Enter your score: 58\n",
            "Grade: D – Needs improvement\n"
          ]
        }
      ]
    },
    {
      "cell_type": "markdown",
      "source": [
        "First ML Model (Linear Regression)"
      ],
      "metadata": {
        "id": "nSQ0YvvCStrQ"
      }
    },
    {
      "cell_type": "code",
      "source": [
        "from sklearn.linear_model import LinearRegression\n",
        "import matplotlib.pyplot as plt\n",
        "\n",
        "hours = [[1], [2], [3], [4], [5], [6], [7]]\n",
        "scores = [45, 50, 55, 60, 65, 70, 75]\n",
        "\n",
        "model = LinearRegression()\n",
        "model.fit(hours, scores)\n",
        "\n",
        "print(\"Predicted score for 8 hours:\", model.predict([[9]])[0])\n",
        "\n",
        "plt.scatter(hours, scores, color='blue')\n",
        "plt.plot(hours, model.predict(hours), color='red')\n",
        "plt.xlabel(\"Hours Studied\")\n",
        "plt.ylabel(\"Score\")\n",
        "plt.title(\"Study Hours vs Score\")\n",
        "plt.show()"
      ],
      "metadata": {
        "colab": {
          "base_uri": "https://localhost:8080/",
          "height": 490
        },
        "id": "IPDD5p2XSyCm",
        "outputId": "ae224942-9783-45c5-a963-cddcccb8910f"
      },
      "execution_count": 13,
      "outputs": [
        {
          "output_type": "stream",
          "name": "stdout",
          "text": [
            "Predicted score for 8 hours: 85.0\n"
          ]
        },
        {
          "output_type": "display_data",
          "data": {
            "text/plain": [
              "<Figure size 640x480 with 1 Axes>"
            ],
            "image/png": "[encoded data removed]"
          },
          "metadata": {}
        }
      ]
    },
    {
      "cell_type": "markdown",
      "source": [
        "Clean & Explore Student Score Data"
      ],
      "metadata": {
        "id": "ry4IbyCel9qV"
      }
    },
    {
      "cell_type": "code",
      "source": [
        "import pandas as pd\n",
        "\n",
        "# Simulate loading a CSV\n",
        "\n",
        "data = {\n",
        "    \"Name\": [\"Gerd\", \"Anna\", \"John\", \"Lara\", \"Mike\"],\n",
        "    \"Hours_Studied\": [5, 3, 6, None, 2],\n",
        "    \"Attendance (%)\": [90, 80, 95, 85, None],\n",
        "    \"Score\": [88, None, 91, 76, 65]\n",
        "}\n",
        "\n",
        "df = pd.DataFrame(data)\n",
        "\n",
        "print(df.head())\n",
        "print(df.info())\n",
        "print(df.isnull().sum())\n",
        "\n",
        "df[\"Hours_Studied\"] = df[\"Hours_Studied\"].fillna(df[\"Hours_Studied\"].mean())\n",
        "df[\"Attendance (%)\"] = df[\"Attendance (%)\"].fillna(df[\"Attendance (%)\"].mean())\n",
        "df[\"Score\"] = df[\"Score\"].fillna(df[\"Score\"].mean())\n",
        "\n",
        "high_study = df[df[\"Hours_Studied\"] > 4]\n",
        "print(high_study)\n",
        "\n",
        "sorted_scores = df.sort_values(by=\"Score\", ascending=False)\n",
        "print(sorted_scores)\n",
        "\n",
        "df.to_csv(\"cleaned_students.csv\", index=False)\n",
        "\n",
        "df.columns = df.columns.str.replace(\" \", \"_\").str.replace(\"(\", \"\").str.replace(\")\", \"\")\n",
        "df = df.round(1)\n",
        "df = df.sort_values(by=\"Score\", ascending=False)\n",
        "df = df.reset_index(drop=True)\n",
        "print(\"\\n🎓 Final Cleaned Student Data:\\n\")\n",
        "print(df.to_string(index=False))"
      ],
      "metadata": {
        "colab": {
          "base_uri": "https://localhost:8080/"
        },
        "id": "aPR5Qa75mCJ_",
        "outputId": "4ab791e3-634a-4063-b114-a352e68d1d54"
      },
      "execution_count": 8,
      "outputs": [
        {
          "output_type": "stream",
          "name": "stdout",
          "text": [
            "   Name  Hours_Studied  Attendance (%)  Score\n",
            "0  Gerd            5.0            90.0   88.0\n",
            "1  Anna            3.0            80.0    NaN\n",
            "2  John            6.0            95.0   91.0\n",
            "3  Lara            NaN            85.0   76.0\n",
            "4  Mike            2.0             NaN   65.0\n",
            "<class 'pandas.core.frame.DataFrame'>\n",
            "RangeIndex: 5 entries, 0 to 4\n",
            "Data columns (total 4 columns):\n",
            " #   Column          Non-Null Count  Dtype  \n",
            "---  ------          --------------  -----  \n",
            " 0   Name            5 non-null      object \n",
            " 1   Hours_Studied   4 non-null      float64\n",
            " 2   Attendance (%)  4 non-null      float64\n",
            " 3   Score           4 non-null      float64\n",
            "dtypes: float64(3), object(1)\n",
            "memory usage: 292.0+ bytes\n",
            "None\n",
            "Name              0\n",
            "Hours_Studied     1\n",
            "Attendance (%)    1\n",
            "Score             1\n",
            "dtype: int64\n",
            "   Name  Hours_Studied  Attendance (%)  Score\n",
            "0  Gerd            5.0            90.0   88.0\n",
            "2  John            6.0            95.0   91.0\n",
            "   Name  Hours_Studied  Attendance (%)  Score\n",
            "2  John            6.0            95.0   91.0\n",
            "0  Gerd            5.0            90.0   88.0\n",
            "1  Anna            3.0            80.0   80.0\n",
            "3  Lara            4.0            85.0   76.0\n",
            "4  Mike            2.0            87.5   65.0\n",
            "\n",
            "🎓 Final Cleaned Student Data:\n",
            "\n",
            "Name  Hours_Studied  Attendance_%  Score\n",
            "John            6.0          95.0   91.0\n",
            "Gerd            5.0          90.0   88.0\n",
            "Anna            3.0          80.0   80.0\n",
            "Lara            4.0          85.0   76.0\n",
            "Mike            2.0          87.5   65.0\n"
          ]
        }
      ]
    }
  ]
}