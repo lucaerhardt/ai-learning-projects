{
  "nbformat": 4,
  "nbformat_minor": 0,
  "metadata": {
    "colab": {
      "provenance": []
    },
    "kernelspec": {
      "name": "python3",
      "display_name": "Python 3"
    },
    "language_info": {
      "name": "python"
    }
  },
  "cells": [
    {
      "cell_type": "code",
      "execution_count": null,
      "metadata": {
        "id": "VaDXkoJNpmL9"
      },
      "outputs": [],
      "source": [
        "import pandas as pd\n",
        "\n",
        "# Step 1: Create the dataset\n",
        "data = {\n",
        "    \"Name\": [\"Gerd\", \"Anna\", \"John\", \"Lara\", \"Mike\"],\n",
        "    \"Hours_Studied\": [5, 3, 6, None, 2],\n",
        "    \"Attendance (%)\": [90, 80, 95, 85, None],\n",
        "    \"Score\": [88, None, 91, 76, 65]\n",
        "}\n",
        "df = pd.DataFrame(data)\n",
        "\n",
        "# Step 2: Fill missing values with column means\n",
        "df[\"Hours_Studied\"] = df[\"Hours_Studied\"].fillna(df[\"Hours_Studied\"].mean())\n",
        "df[\"Attendance (%)\"] = df[\"Attendance (%)\"].fillna(df[\"Attendance (%)\"].mean())\n",
        "df[\"Score\"] = df[\"Score\"].fillna(df[\"Score\"].mean())\n",
        "\n",
        "# Step 3: Clean column names\n",
        "df.columns = df.columns.str.strip().str.replace(\" \", \"_\").str.replace(\"(\", \"\").str.replace(\")\", \"\").str.replace(\"%\", \"\")\n",
        "\n",
        "# Step 4: Round values\n",
        "df = df.round(1)\n",
        "\n",
        "# Step 5: Sort and reset index\n",
        "df = df.sort_values(by=\"Score\", ascending=False).reset_index(drop=True)\n",
        "\n",
        "# Step 6: Display final result\n",
        "print(\"\\n🎓 Final Cleaned Student Data:\\n\")\n",
        "print(df.to_string(index=False))"
      ]
    }
  ]
}